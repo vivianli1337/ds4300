{
 "cells": [
  {
   "cell_type": "code",
   "execution_count": null,
   "metadata": {},
   "outputs": [],
   "source": [
    "from pymongo import MongoClient\n",
    "\n",
    "client = MongoClient('localhost', 27017)\n",
    "db = client['RestaurantsDB']\n",
    "collection = db['restaurants']"
   ]
  },
  {
   "cell_type": "code",
   "execution_count": null,
   "metadata": {},
   "outputs": [],
   "source": [
    "#Question 1 - Find the number of restaurants in each borough that have a grade input by the user\n",
    "pipeline = [\n",
    "    {\"$unwind\": \"$grades\"},\n",
    "    {\"$match\": {\n",
    "        \"grades.grade\": \"A\",\n",
    "        \"borough\": {\"$ne\": \"Missing\"}  # Exclude documents with borough \"Missing\"\n",
    "    }},\n",
    "    {\"$group\": {\"_id\": \"$borough\", \"count\": {\"$sum\": 1}}},\n",
    "    {\"$sort\": {\"count\": -1}},\n",
    "    {\"$limit\": 10}\n",
    "]\n",
    "\n",
    "result = collection.aggregate(pipeline)\n",
    "for entry in result:\n",
    "    print(entry)"
   ]
  },
  {
   "cell_type": "code",
   "execution_count": null,
   "metadata": {},
   "outputs": [],
   "source": [
    "#Question 2 - Print the location of the top 5 restaurants in the database\n",
    "pipeline = [\n",
    "    {\"$unwind\": \"$grades\"},\n",
    "    {\"$group\": {\n",
    "        \"_id\": {\n",
    "            \"name\": \"$name\",\n",
    "            \"location\": \"$address.coord\"\n",
    "        },\n",
    "        \"averageScore\": {\"$avg\": \"$grades.score\"}\n",
    "    }},\n",
    "    {\"$sort\": {\"averageScore\": -1}},\n",
    "    {\"$limit\": 5}\n",
    "]\n",
    "\n",
    "result = collection.aggregate(pipeline)\n",
    "\n",
    "for entry in result:\n",
    "    print(entry)"
   ]
  },
  {
   "cell_type": "code",
   "execution_count": null,
   "metadata": {},
   "outputs": [],
   "source": [
    "# Q3: Count the restaurants that have received at least one 'A' grade and at least one 'B' grade (limit 10)\n",
    "\n",
    "query = {\"grade\": {\"$in\": ['A', 'B', 'C']}}\n",
    "    \n",
    "grades_count = collection.count_documents(query)\n",
    "\n",
    "print(grades_count)\n"
   ]
  },
  {
   "cell_type": "code",
   "execution_count": null,
   "metadata": {},
   "outputs": [],
   "source": [
    "pipeline = [\n",
    "    {\"$match\": {\"borough\": \"Brooklyn\"}},\n",
    "    {\"$unwind\": \"$grades\"},\n",
    "    {\"$group\": {\n",
    "        \"_id\": {\"cuisine\": \"$cuisine\"},\n",
    "        \"averageGrade\": {\"$avg\": \"$grades.score\"},\n",
    "        \"count\": {\"$sum\": 1}\n",
    "    }},\n",
    "    {\"$match\": {\"averageGrade\": {\"$eq\": \"B\"}}}\n",
    "]\n",
    "\n",
    "result = collection.aggregate(pipeline)\n",
    "\n",
    "for entry in result:\n",
    "    print(entry)\n"
   ]
  },
  {
   "cell_type": "code",
   "execution_count": null,
   "metadata": {},
   "outputs": [],
   "source": [
    "# Define the find query and projection\n",
    "find_query = {\n",
    "    \"borough\": \"Manhattan\",\n",
    "    \"cuisine\": \"Italian\",\n",
    "    \"grades.grade\": \"A\"\n",
    "}\n",
    "\n",
    "# Create the aggregation pipeline\n",
    "pipeline = [\n",
    "    {\"$match\": find_query},\n",
    "    {\"$project\": {\n",
    "        \"_id\": 0,\n",
    "        \"name\": 1,\n",
    "        \"grades\": {\n",
    "            \"$filter\": {\n",
    "                \"input\": \"$grades\",\n",
    "                \"as\": \"grade\",\n",
    "                \"cond\": {\"$eq\": [\"$$grade.grade\", \"A\"]}\n",
    "            }\n",
    "        },\n",
    "    }},\n",
    "    {\"$limit\": 10}\n",
    "]\n",
    "\n",
    "# Execute the aggregation pipeline using the aggregate method\n",
    "result = collection.aggregate(pipeline)\n",
    "\n",
    "# Print the result\n",
    "for entry in result:\n",
    "    print(entry)\n"
   ]
  },
  {
   "cell_type": "code",
   "execution_count": null,
   "metadata": {},
   "outputs": [],
   "source": [
    "result = collection.aggregate([\n",
    "    {\"$group\": {\"_id\": \"$cuisine\", \"count\": {\"$sum\": 1}}},\n",
    "    {\"$limit\": 10}, {\"$sort\": {\"count\": -1}}\n",
    "])\n",
    "\n",
    "for entry in result:\n",
    "    print(entry)"
   ]
  },
  {
   "cell_type": "code",
   "execution_count": null,
   "metadata": {},
   "outputs": [],
   "source": [
    "\n",
    "result = collection.aggregate([\n",
    "    {\"$addFields\": {\n",
    "        \"firstGradeScore\": {\"$arrayElemAt\": [\"$grades.score\", -1]},\n",
    "        \"lastGradeScore\": {\"$arrayElemAt\": [\"$grades.score\", 0]},\n",
    "    }},\n",
    "    {\"$addFields\": {\n",
    "        \"scoreImprovement\": {\"$subtract\": [\"$lastGradeScore\", \"$firstGradeScore\"]}\n",
    "    }},\n",
    "    {\"$match\": {\"scoreImprovement\": {\"$gte\": 10}}},\n",
    "    {\"$group\": {\n",
    "        \"_id\": {\n",
    "            \"name\": \"$name\",\n",
    "            \"scoreImprovement\": \"$scoreImprovement\"\n",
    "        }}},\n",
    "    {\"$limit\": 10},\n",
    "    {\"$sort\": {\"_id.scoreImprovement\": -1}}\n",
    "])\n",
    "\n",
    "for entry in result:\n",
    "    print(entry)"
   ]
  },
  {
   "cell_type": "code",
   "execution_count": null,
   "metadata": {},
   "outputs": [],
   "source": [
    "collection.aggregate([\n",
    "    { $group: { _id: \"$cuisine\", count: { $sum: 1 } } },\n",
    "    { $limit: 10 }\n",
    "])"
   ]
  },
  {
   "cell_type": "code",
   "execution_count": null,
   "metadata": {},
   "outputs": [],
   "source": []
  }
 ],
 "metadata": {
  "kernelspec": {
   "display_name": "ds",
   "language": "python",
   "name": "python3"
  },
  "language_info": {
   "codemirror_mode": {
    "name": "ipython",
    "version": 3
   },
   "file_extension": ".py",
   "mimetype": "text/x-python",
   "name": "python",
   "nbconvert_exporter": "python",
   "pygments_lexer": "ipython3",
   "version": "3.11.7"
  }
 },
 "nbformat": 4,
 "nbformat_minor": 2
}
