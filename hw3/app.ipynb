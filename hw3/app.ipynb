{
 "cells": [
  {
   "cell_type": "code",
   "execution_count": null,
   "metadata": {},
   "outputs": [],
   "source": [
    "import cartopy.crs as ccrs\n",
    "import cartopy.feature as cfeature\n",
    "from mpl_toolkits.basemap import Basemap\n"
   ]
  },
  {
   "cell_type": "code",
   "execution_count": null,
   "metadata": {},
   "outputs": [],
   "source": [
    "from pymongo import MongoClient\n",
    "from queries_api import *\n",
    "import matplotlib.pyplot as plt\n",
    "\n",
    "client = MongoClient('localhost', 27017)\n",
    "db = client['RestaurantsDB']\n",
    "collection = db['restaurants']"
   ]
  },
  {
   "cell_type": "code",
   "execution_count": null,
   "metadata": {},
   "outputs": [],
   "source": [
    "#Question 1\n",
    "print('Question 1 - Find the number of restaurants in each borough that have a grade input by the user')\n",
    "grades = ['A', 'B', 'C']\n",
    "get_borough_counts_above_grade(collection, grades)\n",
    "\n"
   ]
  },
  {
   "cell_type": "code",
   "execution_count": null,
   "metadata": {},
   "outputs": [],
   "source": [
    "#Question 2\n",
    "print('Question 2 - Print the location of the top ___ restaurants in the database')\n",
    "n=10\n",
    "find_top_restaurants_and_plot_locations(collection, n)"
   ]
  },
  {
   "cell_type": "code",
   "execution_count": null,
   "metadata": {},
   "outputs": [],
   "source": [
    "#Question 3\n",
    "print(\"Question 3 - Question 3: Print the restaurant names and counts of restaurants that have received at least one 'A' grade and at least one 'B' grade\")\n",
    "count_restaurants_with_grades_and_plot(collection, ['A', 'B'])"
   ]
  },
  {
   "cell_type": "code",
   "execution_count": null,
   "metadata": {},
   "outputs": [],
   "source": [
    "#Question 4\n",
    "print('Question 4 - Find all the [cuisine] restaurants in [borough name] that have a grade input by the user')\n",
    "find_cuisine(collection, 'Japanese', 'Queens', 'B')"
   ]
  },
  {
   "cell_type": "code",
   "execution_count": null,
   "metadata": {},
   "outputs": [],
   "source": [
    "#Question 5\n",
    "print('Question 5: Count the number of restaurants in each cuisine category in [specific borough] with an average grade []')\n",
    "count_restaurants(collection, 'B', ['American', 'Mexican', 'Russian', 'Korean', 'Indian'], 'Brooklyn')"
   ]
  },
  {
   "cell_type": "code",
   "execution_count": null,
   "metadata": {},
   "outputs": [],
   "source": [
    "# Question 6\n",
    "print('Question 6: Find restaurants that have improved their score by at least 10 points')\n",
    "for restaurant in find_improved_restaurants(collection):\n",
    "    print(restaurant)"
   ]
  },
  {
   "cell_type": "code",
   "execution_count": null,
   "metadata": {},
   "outputs": [],
   "source": [
    "# Question 7\n",
    "print('Question 7: Count the number of restaurants in each cuisine category')\n",
    "for count in count_cuisines(collection):\n",
    "    print(count)"
   ]
  },
  {
   "cell_type": "code",
   "execution_count": null,
   "metadata": {},
   "outputs": [],
   "source": [
    "# Question 8\n",
    "print(\"Question 8: Find restaurants that have never received a grade below 'B'\")\n",
    "for restaurant in find_high_grade_restaurants(collection):\n",
    "    print(restaurant[\"name\"])"
   ]
  },
  {
   "cell_type": "code",
   "execution_count": null,
   "metadata": {},
   "outputs": [],
   "source": [
    "# Question 9\n",
    "print('Question 9: Find the restaurant with the most number of grades')\n",
    "for restaurant in find_most_grades_restaurant(collection):\n",
    "    print(restaurant)\n"
   ]
  },
  {
   "cell_type": "code",
   "execution_count": null,
   "metadata": {},
   "outputs": [],
   "source": [
    "# Question 10\n",
    "print(\"Question 10: Calculate the average grade score for Brooklyn and Queens\")\n",
    "for score in calculate_average_score_by_borough(collection):\n",
    "    print(score)"
   ]
  },
  {
   "cell_type": "code",
   "execution_count": null,
   "metadata": {},
   "outputs": [],
   "source": []
  },
  {
   "cell_type": "code",
   "execution_count": null,
   "metadata": {},
   "outputs": [],
   "source": []
  },
  {
   "cell_type": "code",
   "execution_count": null,
   "metadata": {},
   "outputs": [],
   "source": []
  }
 ],
 "metadata": {
  "kernelspec": {
   "display_name": "ds",
   "language": "python",
   "name": "python3"
  },
  "language_info": {
   "codemirror_mode": {
    "name": "ipython",
    "version": 3
   },
   "file_extension": ".py",
   "mimetype": "text/x-python",
   "name": "python",
   "nbconvert_exporter": "python",
   "pygments_lexer": "ipython3",
   "version": "3.11.7"
  }
 },
 "nbformat": 4,
 "nbformat_minor": 2
}
